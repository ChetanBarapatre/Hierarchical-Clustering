{
  "nbformat": 4,
  "nbformat_minor": 0,
  "metadata": {
    "colab": {
      "provenance": []
    },
    "kernelspec": {
      "name": "python3",
      "display_name": "Python 3"
    },
    "language_info": {
      "name": "python"
    }
  },
  "cells": [
    {
      "cell_type": "code",
      "source": [],
      "metadata": {
        "id": "ZLQa07R4P_Px"
      },
      "execution_count": null,
      "outputs": []
    },
    {
      "cell_type": "markdown",
      "source": [
        "\n",
        "#**Hierarchical Clustering**\n",
        "Hierarchical clustering is where we build a cluster tree (dendrogram) to represent data, where each group (node) is linked to two or more\n",
        "successor groups.\n",
        "\n",
        "\n",
        "\n",
        "*   The groups are nested and organized as a tree, which ideally ends up as a meaningful classification scheme.\n",
        "*  Each node in the cluster tree contains a group of similar data; nodes are placed on the graph next to other similar nodes.\n",
        "\n",
        "\n",
        "*  Clusters at one level are joined with clusters in the next level up, using a degree of similarity. \n",
        "*   The process carries on until all nodes are in the tree, which gives a visual snapshot of the data contained in the whole set.\n",
        "\n",
        "*   The total number of clusters is not predetermined before you start the tree creation\n",
        "\n",
        "##**Implementing Hierarchical Clustering**\n",
        "There are two major ways in which hierarchical clustering can be carried out:\n",
        "1. Agglomerative or Bottom-Up Clustering\n",
        "2. Divisive or Top-Down Clustering\n",
        "\n",
        "##**Agglomerative (Bottom-Up) Clustering**\n",
        "\n",
        "1. Start with each example in its own singleton cluster\n",
        "2. At each time-step, greedily merge two most similar clusters\n",
        "3. Stop when there is a single cluster of all examples, else go to two\n",
        "\n",
        "##**Divisive (Top-Down) Clustering**\n",
        "1. Start with all examples in the same cluster\n",
        "2. At each time-step, remove the “outsiders” from the least cohesive cluster\n",
        "3. Stop when each example is in its own singleton cluster, else go to two\n",
        "\n",
        "#for more theory refer below\n",
        "https://www.javatpoint.com/hierarchical-clustering-in-machine-learning\n",
        "\n",
        "\n",
        "\n",
        "\n",
        "\n",
        "\n"
      ],
      "metadata": {
        "id": "vSqnGfMKV3_9"
      }
    },
    {
      "cell_type": "code",
      "source": [
        "import pandas as pd\n",
        "import numpy as np\n",
        "import matplotlib.pyplot as plt\n",
        "import seaborn as sns\n",
        "from sklearn.cluster import KMeans\n",
        "from sklearn.datasets import load_iris\n"
      ],
      "metadata": {
        "id": "Pr_031y4Zbh3"
      },
      "execution_count": 1,
      "outputs": []
    },
    {
      "cell_type": "markdown",
      "source": [
        "In the above code, we are using the sklearn library, which contains a lot of tools for machine learning and statistical modeling, including\n",
        "classification, regression, clustering, and dimensionality reduction."
      ],
      "metadata": {
        "id": "iuJjIjbgabab"
      }
    },
    {
      "cell_type": "code",
      "source": [
        "iris=load_iris()"
      ],
      "metadata": {
        "id": "3VXWqFBwackc"
      },
      "execution_count": 2,
      "outputs": []
    },
    {
      "cell_type": "markdown",
      "source": [
        "Load_iris is a function from sklearn that loads and returns the iris dataset. The libraries used above already contains it. Just by loading the\n",
        "library, a data frame named \"iris\" will be made available and can be used straight away."
      ],
      "metadata": {
        "id": "-T4Q0tFSa1uD"
      }
    },
    {
      "cell_type": "code",
      "source": [
        "X=iris.data\n",
        "y=iris.target"
      ],
      "metadata": {
        "id": "VICEmPaMapkA"
      },
      "execution_count": 3,
      "outputs": []
    },
    {
      "cell_type": "code",
      "source": [
        "#Import dendrogram and linkage module from scipy library\n",
        "from scipy.cluster.hierarchy import dendrogram,linkage"
      ],
      "metadata": {
        "id": "WNlAId8IbHk6"
      },
      "execution_count": 4,
      "outputs": []
    },
    {
      "cell_type": "code",
      "source": [
        "#Generate the linkage matrix\n",
        "Z=linkage(X,'average')"
      ],
      "metadata": {
        "id": "LdcseBnvbXJc"
      },
      "execution_count": 5,
      "outputs": []
    },
    {
      "cell_type": "code",
      "source": [
        "\n",
        "#Calculate full dendrogram\n",
        "plt.figure(figsize=(25,10))\n",
        "plt.title('Hierarchical Clustering Dendrogram')\n",
        "plt.xlabel('sample index')\n",
        "plt.ylabel('distance')\n",
        "dendrogram(Z,\n",
        "           leaf_rotation=90., #Rotates the x axis labels\n",
        "           leaf_font_size=8., #font size for the x axis labels\n",
        "           )\n",
        "plt.show()"
      ],
      "metadata": {
        "colab": {
          "base_uri": "https://localhost:8080/",
          "height": 425
        },
        "id": "5NShG1vCb3cp",
        "outputId": "862d3647-d115-49f1-e280-8c06c6c2132e"
      },
      "execution_count": 6,
      "outputs": [
        {
          "output_type": "display_data",
          "data": {
            "text/plain": [
              "<Figure size 1800x720 with 1 Axes>"
            ],
            "image/png": "[encoded data removed]"
          },
          "metadata": {
            "needs_background": "light"
          }
        }
      ]
    },
    {
      "cell_type": "markdown",
      "source": [
        "Now we are going to see the concept of Agglomerative (Bottom-Up) Clustering with a business use case.\n"
      ],
      "metadata": {
        "id": "79EpmPxkdhxO"
      }
    },
    {
      "cell_type": "markdown",
      "source": [
        "##**Problem Statement**:\n",
        "An ecommerce company has prepared a rough dataset containing shopping details of their customers, which includes CustomerID, Genre,\n",
        "Age, Annual Income (k$), Spending Score (1-100). The company is unable to target a specific set of customers with a particular set of SKUs.\n",
        "##**Objective**:\n",
        "Segment customers into different groups based on their shopping trends.\n",
        "##**Dataset**\n",
        "Before reading the data from a .csv file, you need to download \"housing_data.csv\" dataset from the course resource and upload it into the\n",
        "lab. We must use the Up arrow icon, which is shown in the left side under View icon. Click on the Up arrow icon and upload the file\n",
        "wherever it is downloaded into your system."
      ],
      "metadata": {
        "id": "n_O9eP4teUAU"
      }
    },
    {
      "cell_type": "code",
      "source": [
        "import numpy as np\n",
        "import pandas as pd\n",
        "import matplotlib.pyplot as plt\n",
        "import seaborn as sns\n"
      ],
      "metadata": {
        "id": "mh_wWvC4cPWM"
      },
      "execution_count": 7,
      "outputs": []
    },
    {
      "cell_type": "code",
      "source": [
        "customer_data=pd.read_csv('/content/drive/MyDrive/machine learning/machine learning/Datasets/LVC Datasets/Lesson 5/Dataset/shopping_data.csv')"
      ],
      "metadata": {
        "id": "Kj3JrSjze1XR"
      },
      "execution_count": 8,
      "outputs": []
    },
    {
      "cell_type": "markdown",
      "source": [
        "In the above code, pd.read_csv function is used to read the \"shopping_data.csv\" file, and customer_data is a variable that will store the data\n",
        "read by the .csv file."
      ],
      "metadata": {
        "id": "KrmYSmxzfZBJ"
      }
    },
    {
      "cell_type": "code",
      "source": [
        "customer_data.head()"
      ],
      "metadata": {
        "colab": {
          "base_uri": "https://localhost:8080/",
          "height": 206
        },
        "id": "YaMJzMu6fD-v",
        "outputId": "b3e01cac-0276-4b55-9764-45a7ae24afe8"
      },
      "execution_count": 9,
      "outputs": [
        {
          "output_type": "execute_result",
          "data": {
            "text/plain": [
              "   CustomerID   Genre  Age  Annual Income (k$)  Spending Score (1-100)\n",
              "0           1    Male   19                  15                      39\n",
              "1           2    Male   21                  15                      81\n",
              "2           3  Female   20                  16                       6\n",
              "3           4  Female   23                  16                      77\n",
              "4           5  Female   31                  17                      40"
            ],
            "text/html": [
              "\n",
              "  <div id=\"df-a18867e9-0105-431d-9873-5e20a05eaac9\">\n",
              "    <div class=\"colab-df-container\">\n",
              "      <div>\n",
              "<style scoped>\n",
              "    .dataframe tbody tr th:only-of-type {\n",
              "        vertical-align: middle;\n",
              "    }\n",
              "\n",
              "    .dataframe tbody tr th {\n",
              "        vertical-align: top;\n",
              "    }\n",
              "\n",
              "    .dataframe thead th {\n",
              "        text-align: right;\n",
              "    }\n",
              "</style>\n",
              "<table border=\"1\" class=\"dataframe\">\n",
              "  <thead>\n",
              "    <tr style=\"text-align: right;\">\n",
              "      <th></th>\n",
              "      <th>CustomerID</th>\n",
              "      <th>Genre</th>\n",
              "      <th>Age</th>\n",
              "      <th>Annual Income (k$)</th>\n",
              "      <th>Spending Score (1-100)</th>\n",
              "    </tr>\n",
              "  </thead>\n",
              "  <tbody>\n",
              "    <tr>\n",
              "      <th>0</th>\n",
              "      <td>1</td>\n",
              "      <td>Male</td>\n",
              "      <td>19</td>\n",
              "      <td>15</td>\n",
              "      <td>39</td>\n",
              "    </tr>\n",
              "    <tr>\n",
              "      <th>1</th>\n",
              "      <td>2</td>\n",
              "      <td>Male</td>\n",
              "      <td>21</td>\n",
              "      <td>15</td>\n",
              "      <td>81</td>\n",
              "    </tr>\n",
              "    <tr>\n",
              "      <th>2</th>\n",
              "      <td>3</td>\n",
              "      <td>Female</td>\n",
              "      <td>20</td>\n",
              "      <td>16</td>\n",
              "      <td>6</td>\n",
              "    </tr>\n",
              "    <tr>\n",
              "      <th>3</th>\n",
              "      <td>4</td>\n",
              "      <td>Female</td>\n",
              "      <td>23</td>\n",
              "      <td>16</td>\n",
              "      <td>77</td>\n",
              "    </tr>\n",
              "    <tr>\n",
              "      <th>4</th>\n",
              "      <td>5</td>\n",
              "      <td>Female</td>\n",
              "      <td>31</td>\n",
              "      <td>17</td>\n",
              "      <td>40</td>\n",
              "    </tr>\n",
              "  </tbody>\n",
              "</table>\n",
              "</div>\n",
              "      <button class=\"colab-df-convert\" onclick=\"convertToInteractive('df-a18867e9-0105-431d-9873-5e20a05eaac9')\"\n",
              "              title=\"Convert this dataframe to an interactive table.\"\n",
              "              style=\"display:none;\">\n",
              "        \n",
              "  <svg xmlns=\"http://www.w3.org/2000/svg\" height=\"24px\"viewBox=\"0 0 24 24\"\n",
              "       width=\"24px\">\n",
              "    <path d=\"M0 0h24v24H0V0z\" fill=\"none\"/>\n",
              "    <path d=\"M18.56 5.44l.94 2.06.94-2.06 2.06-.94-2.06-.94-.94-2.06-.94 2.06-2.06.94zm-11 1L8.5 8.5l.94-2.06 2.06-.94-2.06-.94L8.5 2.5l-.94 2.06-2.06.94zm10 10l.94 2.06.94-2.06 2.06-.94-2.06-.94-.94-2.06-.94 2.06-2.06.94z\"/><path d=\"M17.41 7.96l-1.37-1.37c-.4-.4-.92-.59-1.43-.59-.52 0-1.04.2-1.43.59L10.3 9.45l-7.72 7.72c-.78.78-.78 2.05 0 2.83L4 21.41c.39.39.9.59 1.41.59.51 0 1.02-.2 1.41-.59l7.78-7.78 2.81-2.81c.8-.78.8-2.07 0-2.86zM5.41 20L4 18.59l7.72-7.72 1.47 1.35L5.41 20z\"/>\n",
              "  </svg>\n",
              "      </button>\n",
              "      \n",
              "  <style>\n",
              "    .colab-df-container {\n",
              "      display:flex;\n",
              "      flex-wrap:wrap;\n",
              "      gap: 12px;\n",
              "    }\n",
              "\n",
              "    .colab-df-convert {\n",
              "      background-color: #E8F0FE;\n",
              "      border: none;\n",
              "      border-radius: 50%;\n",
              "      cursor: pointer;\n",
              "      display: none;\n",
              "      fill: #1967D2;\n",
              "      height: 32px;\n",
              "      padding: 0 0 0 0;\n",
              "      width: 32px;\n",
              "    }\n",
              "\n",
              "    .colab-df-convert:hover {\n",
              "      background-color: #E2EBFA;\n",
              "      box-shadow: 0px 1px 2px rgba(60, 64, 67, 0.3), 0px 1px 3px 1px rgba(60, 64, 67, 0.15);\n",
              "      fill: #174EA6;\n",
              "    }\n",
              "\n",
              "    [theme=dark] .colab-df-convert {\n",
              "      background-color: #3B4455;\n",
              "      fill: #D2E3FC;\n",
              "    }\n",
              "\n",
              "    [theme=dark] .colab-df-convert:hover {\n",
              "      background-color: #434B5C;\n",
              "      box-shadow: 0px 1px 3px 1px rgba(0, 0, 0, 0.15);\n",
              "      filter: drop-shadow(0px 1px 2px rgba(0, 0, 0, 0.3));\n",
              "      fill: #FFFFFF;\n",
              "    }\n",
              "  </style>\n",
              "\n",
              "      <script>\n",
              "        const buttonEl =\n",
              "          document.querySelector('#df-a18867e9-0105-431d-9873-5e20a05eaac9 button.colab-df-convert');\n",
              "        buttonEl.style.display =\n",
              "          google.colab.kernel.accessAllowed ? 'block' : 'none';\n",
              "\n",
              "        async function convertToInteractive(key) {\n",
              "          const element = document.querySelector('#df-a18867e9-0105-431d-9873-5e20a05eaac9');\n",
              "          const dataTable =\n",
              "            await google.colab.kernel.invokeFunction('convertToInteractive',\n",
              "                                                     [key], {});\n",
              "          if (!dataTable) return;\n",
              "\n",
              "          const docLinkHtml = 'Like what you see? Visit the ' +\n",
              "            '<a target=\"_blank\" href=https://colab.research.google.com/notebooks/data_table.ipynb>data table notebook</a>'\n",
              "            + ' to learn more about interactive tables.';\n",
              "          element.innerHTML = '';\n",
              "          dataTable['output_type'] = 'display_data';\n",
              "          await google.colab.output.renderOutput(dataTable, element);\n",
              "          const docLink = document.createElement('div');\n",
              "          docLink.innerHTML = docLinkHtml;\n",
              "          element.appendChild(docLink);\n",
              "        }\n",
              "      </script>\n",
              "    </div>\n",
              "  </div>\n",
              "  "
            ]
          },
          "metadata": {},
          "execution_count": 9
        }
      ]
    },
    {
      "cell_type": "code",
      "source": [
        "customer_data.shape"
      ],
      "metadata": {
        "colab": {
          "base_uri": "https://localhost:8080/"
        },
        "id": "IIJfHxi1fLJH",
        "outputId": "332a3dbc-e92a-4e4b-815d-f90428f903b5"
      },
      "execution_count": 10,
      "outputs": [
        {
          "output_type": "execute_result",
          "data": {
            "text/plain": [
              "(200, 5)"
            ]
          },
          "metadata": {},
          "execution_count": 10
        }
      ]
    },
    {
      "cell_type": "markdown",
      "source": [
        "Here, shape is an attribute that returns a tuple representing the dimensionality of the customer_data. It is used to define the number of\n",
        "rows and columns in customer_data."
      ],
      "metadata": {
        "id": "8ylxtVjifvnD"
      }
    },
    {
      "cell_type": "markdown",
      "source": [
        "Our dataset has five columns: CustomerID, Genre, Age, Annual Income, and Spending Score. To view the results in two-dimensional feature\n",
        "space, we will retain only two of these five columns. We can remove CustomerID column, Genre, and Age column. We will retain the Annual\n",
        "Income (in thousands of dollars) and Spending Score (1-100) columns. The Spending Score column signifies how often a person spends\n",
        "money in a mall on a scale of 1 to 100 with 100 being the highest spender. Execute the following script to filter the first three columns from\n",
        "our dataset:\n"
      ],
      "metadata": {
        "id": "OFZ-X11IgL5Y"
      }
    },
    {
      "cell_type": "code",
      "source": [
        "data=customer_data.iloc[:,3:5].values"
      ],
      "metadata": {
        "id": "TfJkqESJfXRi"
      },
      "execution_count": 11,
      "outputs": []
    },
    {
      "cell_type": "markdown",
      "source": [
        "Next, we need to know the clusters that we want our data to be split to. We will again use the scipy library to create the dendrograms for\n",
        "our dataset. Execute the following script to do so:\n"
      ],
      "metadata": {
        "id": "-gcRgOEd9SzL"
      }
    },
    {
      "cell_type": "code",
      "source": [
        "data.shape"
      ],
      "metadata": {
        "colab": {
          "base_uri": "https://localhost:8080/"
        },
        "id": "wryxQRG8gllV",
        "outputId": "ec356052-1c31-4efc-de55-06968b6d4205"
      },
      "execution_count": 12,
      "outputs": [
        {
          "output_type": "execute_result",
          "data": {
            "text/plain": [
              "(200, 2)"
            ]
          },
          "metadata": {},
          "execution_count": 12
        }
      ]
    },
    {
      "cell_type": "code",
      "source": [
        "import scipy.cluster.hierarchy as shc\n",
        "\n",
        "plt.figure(figsize=(25,10))\n",
        "plt.title('Customer Dendogram')\n",
        "dend = shc.dendrogram(shc.linkage(data,method='ward'))"
      ],
      "metadata": {
        "colab": {
          "base_uri": "https://localhost:8080/",
          "height": 627
        },
        "id": "JR2HG488go0L",
        "outputId": "cef9d887-bb4c-42c4-ed7c-d56dd64c21b8"
      },
      "execution_count": 13,
      "outputs": [
        {
          "output_type": "display_data",
          "data": {
            "text/plain": [
              "<Figure size 1800x720 with 1 Axes>"
            ],
            "image/png": "[encoded data removed]"
          },
          "metadata": {
            "needs_background": "light"
          }
        }
      ]
    },
    {
      "cell_type": "markdown",
      "source": [
        "If we draw a horizontal line that passes through longest distance without a horizontal line, we get 5 clusters.\n",
        "We create an instance of Agglomerative Clustering using the euclidean distance as the measure of distance between points and ward\n",
        "linkage to calculate the proximity of clusters."
      ],
      "metadata": {
        "id": "L269SMKC-5q4"
      }
    },
    {
      "cell_type": "code",
      "source": [
        "from sklearn.cluster import AgglomerativeClustering\n",
        "\n",
        "cluster = AgglomerativeClustering(n_clusters=5,affinity='euclidean',linkage='ward')\n",
        "cluster.fit_predict(data)"
      ],
      "metadata": {
        "colab": {
          "base_uri": "https://localhost:8080/"
        },
        "id": "mgDG0aO--yof",
        "outputId": "95c5a2aa-ffc5-454f-e09f-6d039839ef33"
      },
      "execution_count": 14,
      "outputs": [
        {
          "output_type": "execute_result",
          "data": {
            "text/plain": [
              "array([4, 3, 4, 3, 4, 3, 4, 3, 4, 3, 4, 3, 4, 3, 4, 3, 4, 3, 4, 3, 4, 3,\n",
              "       4, 3, 4, 3, 4, 3, 4, 3, 4, 3, 4, 3, 4, 3, 4, 3, 4, 3, 4, 3, 4, 1,\n",
              "       4, 1, 1, 1, 1, 1, 1, 1, 1, 1, 1, 1, 1, 1, 1, 1, 1, 1, 1, 1, 1, 1,\n",
              "       1, 1, 1, 1, 1, 1, 1, 1, 1, 1, 1, 1, 1, 1, 1, 1, 1, 1, 1, 1, 1, 1,\n",
              "       1, 1, 1, 1, 1, 1, 1, 1, 1, 1, 1, 1, 1, 1, 1, 1, 1, 1, 1, 1, 1, 1,\n",
              "       1, 1, 1, 1, 1, 1, 1, 1, 1, 1, 1, 1, 1, 2, 1, 2, 1, 2, 0, 2, 0, 2,\n",
              "       1, 2, 0, 2, 0, 2, 0, 2, 0, 2, 1, 2, 0, 2, 1, 2, 0, 2, 0, 2, 0, 2,\n",
              "       0, 2, 0, 2, 0, 2, 1, 2, 0, 2, 0, 2, 0, 2, 0, 2, 0, 2, 0, 2, 0, 2,\n",
              "       0, 2, 0, 2, 0, 2, 0, 2, 0, 2, 0, 2, 0, 2, 0, 2, 0, 2, 0, 2, 0, 2,\n",
              "       0, 2])"
            ]
          },
          "metadata": {},
          "execution_count": 14
        }
      ]
    },
    {
      "cell_type": "markdown",
      "source": [
        "You can see the cluster labels from all of your data points. Since we had five clusters, we have five labels in the output i.e. 0 to 4.\n",
        "As a final step, let's plot the clusters to see how actually our data has been clustered:"
      ],
      "metadata": {
        "id": "G8YLO67sARW9"
      }
    },
    {
      "cell_type": "code",
      "source": [
        "plt.figure(figsize=(10,7))\n",
        "plt.scatter(data[:,0],data[:,1],c=cluster.labels_,cmap='rainbow')"
      ],
      "metadata": {
        "colab": {
          "base_uri": "https://localhost:8080/",
          "height": 445
        },
        "id": "-T7I4JUIAFb6",
        "outputId": "eb879229-5c6a-4e20-ff11-fc81df97c016"
      },
      "execution_count": 15,
      "outputs": [
        {
          "output_type": "execute_result",
          "data": {
            "text/plain": [
              "<matplotlib.collections.PathCollection at 0x7fe4253ca700>"
            ]
          },
          "metadata": {},
          "execution_count": 15
        },
        {
          "output_type": "display_data",
          "data": {
            "text/plain": [
              "<Figure size 720x504 with 1 Axes>"
            ],
            "image/png": "[encoded data removed]"
          },
          "metadata": {
            "needs_background": "light"
          }
        }
      ]
    },
    {
      "cell_type": "markdown",
      "source": [
        "##**Conclusion**\n",
        "When the shopping data is grouped using the agglomerative clustering technique, we can observe that there are five groups for\n",
        "consumers whose labels range from 0 to 4"
      ],
      "metadata": {
        "id": "0DZRe4mcBThr"
      }
    },
    {
      "cell_type": "code",
      "source": [],
      "metadata": {
        "id": "gV2szr7wBELm"
      },
      "execution_count": null,
      "outputs": []
    }
  ]
}